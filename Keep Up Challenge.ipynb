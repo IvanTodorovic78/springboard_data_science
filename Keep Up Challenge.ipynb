{
 "cells": [
  {
   "cell_type": "markdown",
   "metadata": {},
   "source": [
    "# KeepUp Data Analysis Exercise"
   ]
  },
  {
   "cell_type": "markdown",
   "metadata": {},
   "source": [
    "This exercise analyzes data from the Amazon data set (http://snap.stanford.edu/data/amazon-meta.html) in order to draw cocnlusions about ratings and categorization of products."
   ]
  },
  {
   "cell_type": "code",
   "execution_count": 1,
   "metadata": {
    "collapsed": true
   },
   "outputs": [],
   "source": [
    "import numpy as np\n",
    "import pandas as pd\n",
    "import matplotlib.pyplot as plt\n",
    "%matplotlib inline"
   ]
  },
  {
   "cell_type": "code",
   "execution_count": 2,
   "metadata": {
    "collapsed": true
   },
   "outputs": [],
   "source": [
    "import re"
   ]
  },
  {
   "cell_type": "code",
   "execution_count": 80,
   "metadata": {
    "collapsed": true
   },
   "outputs": [],
   "source": [
    "import collections"
   ]
  },
  {
   "cell_type": "markdown",
   "metadata": {},
   "source": [
    "## A1. Trustworthiness of Ratings "
   ]
  },
  {
   "cell_type": "markdown",
   "metadata": {},
   "source": [
    "Q: With the given data for 548552 products, perform exploratory analysis and make suggestions for further analysis on the following aspects. Ratings are susceptible to manipulation, bias etc. What can you say (quantitatively speaking) about the ratings in this dataset?"
   ]
  },
  {
   "cell_type": "markdown",
   "metadata": {},
   "source": [
    "To answer this question, we will import the 'avg rating' score for each product and make a histiogram of results. The original file will be screened line by line for the 'avg rating' field and the rating extracted. Due to teh size of the data set, it is sufficient to look at average ratings per product, rather than at all ratings given by individual users."
   ]
  },
  {
   "cell_type": "code",
   "execution_count": 70,
   "metadata": {
    "collapsed": false
   },
   "outputs": [
    {
     "name": "stdout",
     "output_type": "stream",
     "text": [
      "Wall time: 1min 9s\n"
     ]
    }
   ],
   "source": [
    "%%time\n",
    "# initialize empty list\n",
    "ratings = []\n",
    "# extract the rating from the 'avg rating :' line and add to the list\n",
    "with open('amazon-meta.txt', 'r') as f:\n",
    "    for line in f:\n",
    "        rating = re.search(r'(\\bavg rating: \\b)([1-5])', line)\n",
    "        if rating is not None:\n",
    "            ratings.append(int(rating.group(2)))"
   ]
  },
  {
   "cell_type": "code",
   "execution_count": 71,
   "metadata": {
    "collapsed": false
   },
   "outputs": [
    {
     "data": {
      "text/plain": [
       "402735"
      ]
     },
     "execution_count": 71,
     "metadata": {},
     "output_type": "execute_result"
    }
   ],
   "source": [
    "len(ratings)"
   ]
  },
  {
   "cell_type": "markdown",
   "metadata": {},
   "source": [
    "This only extracted 402k ratings vs. 548k products. Some products are not rated or discontinued."
   ]
  },
  {
   "cell_type": "code",
   "execution_count": 72,
   "metadata": {
    "collapsed": false
   },
   "outputs": [
    {
     "data": {
      "text/plain": [
       "(array([1, 2, 3, 4, 5]),\n",
       " array([  3569,  10678,  55632, 187021, 145835], dtype=int64))"
      ]
     },
     "execution_count": 72,
     "metadata": {},
     "output_type": "execute_result"
    }
   ],
   "source": [
    "#check unique values and value counts:\n",
    "np.unique(ratings, return_counts=True)"
   ]
  },
  {
   "cell_type": "code",
   "execution_count": 78,
   "metadata": {
    "collapsed": false
   },
   "outputs": [
    {
     "data": {
      "text/plain": [
       "4.1443629185444522"
      ]
     },
     "execution_count": 78,
     "metadata": {},
     "output_type": "execute_result"
    }
   ],
   "source": [
    "np.mean(ratings)"
   ]
  },
  {
   "cell_type": "code",
   "execution_count": 77,
   "metadata": {
    "collapsed": false
   },
   "outputs": [
    {
     "data": {
      "image/png": "[encoded data removed]",
      "text/plain": [
       "<matplotlib.figure.Figure at 0x4c1fe908>"
      ]
     },
     "metadata": {},
     "output_type": "display_data"
    }
   ],
   "source": [
    "# plot histogram\n",
    "plt.hist(ratings, bins=5)\n",
    "plt.show()"
   ]
  },
  {
   "cell_type": "markdown",
   "metadata": {},
   "source": [
    "The distribution of ratings is positively skewed, i.e. there are more high ratings (4 and 5) than low/mid ratings (1-2 as low and 3 as mid). The mean rating is 4.14. "
   ]
  },
  {
   "cell_type": "markdown",
   "metadata": {},
   "source": [
    "## A2. Category Bloat "
   ]
  },
  {
   "cell_type": "markdown",
   "metadata": {},
   "source": [
    "This section focuses on the Books cateory and analyzes the structure and distribution of categories. The questions we are trying to answer are: \n",
    "a. Is there redundancy in the categorization? How can it be identified/removed?\n",
    "b. Is is possible to reduce the number of categories drastically (say to 10% of existing \n",
    "categories) by sacrificing relatively few category entries (say close to 10%)?\n",
    "\n",
    "First, we will read teh source file line by line and identify the lines which describe the categorization for each product. Each category is represented by an integer code, which we will add to a counter and extract the number of times each category appears in the data set. Note that a book typically has 3-4 different categories assigned to it and each of these is hierarchically divided over about 4 levels, from teh broadest to teh most detailed. \n",
    "\n",
    "Next, we will look at the distribution of final-branch (most detailed) categories and explore if there is a large number of categories that appear with low frequency. We can define redundancy as a category that has very few titles attached to it and therefore represents unnecessasy complexity and does not help customers find these titles by secluding them in categories that are too specialized. The exact cut-off point is a question of judgement, but we can safely assume that a category with 1-2 entries is definitely redundant, while a category with 100+ entries is not. A sensible cut-off may be e.g. 10 or 20 titles per category."
   ]
  },
  {
   "cell_type": "code",
   "execution_count": 394,
   "metadata": {
    "collapsed": false
   },
   "outputs": [
    {
     "name": "stdout",
     "output_type": "stream",
     "text": [
      "Wall time: 1min 16s\n"
     ]
    }
   ],
   "source": [
    "%%time\n",
    "# initialize empty counter\n",
    "categories_list = []\n",
    "# find the relevant line and extract codes that relate to categories\n",
    "with open('amazon-meta.txt', 'r') as f:\n",
    "    for line in f:\n",
    "        m = re.search(r'\\bBooks\\b\\[\\d+\\]', line)\n",
    "        if m is not None:\n",
    "            n = re.findall(r'\\d+', m.string)\n",
    "            categories_list.append(n)"
   ]
  },
  {
   "cell_type": "code",
   "execution_count": 397,
   "metadata": {
    "collapsed": false
   },
   "outputs": [
    {
     "data": {
      "text/plain": [
       "[['283155', '1000', '10', '298657'],\n",
       " ['283155', '1000', '3', '2665', '2669'],\n",
       " ['283155', '1000', '10777', '173486', '10903'],\n",
       " ['283155', '1000', '10777', '173483', '10963'],\n",
       " ['283155', '1000', '5', '3510', '3525', '3527'],\n",
       " ['283155', '1000', '5', '4134', '549650', '4137', '4142'],\n",
       " ['265523', '285080', '764512', '768162', '768228', '768256', '768322'],\n",
       " ['283155', '1000', '53', '11232', '11288', '11289'],\n",
       " ['283155', '1000', '22', '12290', '12292', '12295'],\n",
       " ['283155', '1000', '75', '13871', '13872']]"
      ]
     },
     "execution_count": 397,
     "metadata": {},
     "output_type": "execute_result"
    }
   ],
   "source": [
    "categories_list[-10:]"
   ]
  },
  {
   "cell_type": "code",
   "execution_count": 413,
   "metadata": {
    "collapsed": false
   },
   "outputs": [
    {
     "data": {
      "text/plain": [
       "1437865"
      ]
     },
     "execution_count": 413,
     "metadata": {},
     "output_type": "execute_result"
    }
   ],
   "source": [
    "last_items = []\n",
    "for list in categories_list:\n",
    "    li =  list[-1]\n",
    "    last_items.append(li)\n",
    "len(last_items)"
   ]
  },
  {
   "cell_type": "code",
   "execution_count": 420,
   "metadata": {
    "collapsed": false
   },
   "outputs": [
    {
     "data": {
      "text/plain": [
       "7961434"
      ]
     },
     "execution_count": 420,
     "metadata": {},
     "output_type": "execute_result"
    }
   ],
   "source": [
    "items = 0\n",
    "for list in categories_list:\n",
    "    items += len(list)\n",
    "items"
   ]
  },
  {
   "cell_type": "code",
   "execution_count": 416,
   "metadata": {
    "collapsed": true
   },
   "outputs": [],
   "source": [
    "categories = collections.Counter(last_items)"
   ]
  },
  {
   "cell_type": "code",
   "execution_count": 417,
   "metadata": {
    "collapsed": false
   },
   "outputs": [
    {
     "name": "stdout",
     "output_type": "stream",
     "text": [
      "Total categories:  12524\n",
      "Total entries:  1437865\n",
      "Ratio:  114.808767167\n"
     ]
    }
   ],
   "source": [
    "no_categories = len(categories.keys())\n",
    "no_entries = np.sum(categories.values())\n",
    "print 'Total categories: ', no_categories\n",
    "print 'Total entries: ', no_entries\n",
    "print 'Ratio: ', no_entries / float(no_categories)"
   ]
  },
  {
   "cell_type": "code",
   "execution_count": 421,
   "metadata": {
    "collapsed": false
   },
   "outputs": [
    {
     "data": {
      "text/plain": [
       "5.5369829573708245"
      ]
     },
     "execution_count": 421,
     "metadata": {},
     "output_type": "execute_result"
    }
   ],
   "source": [
    "# average no. of branches per entry\n",
    "items / float(no_entries)"
   ]
  },
  {
   "cell_type": "code",
   "execution_count": 419,
   "metadata": {
    "collapsed": false
   },
   "outputs": [
    {
     "data": {
      "text/plain": [
       "3.653474302585876"
      ]
     },
     "execution_count": 419,
     "metadata": {},
     "output_type": "execute_result"
    }
   ],
   "source": [
    "# average no. of entries per book title\n",
    "no_books = 393561 #from the data set web page, total no. of products\n",
    "float(no_entries) / no_books"
   ]
  },
  {
   "cell_type": "code",
   "execution_count": 422,
   "metadata": {
    "collapsed": true
   },
   "outputs": [],
   "source": [
    "freq = np.sort(categories.values())"
   ]
  },
  {
   "cell_type": "code",
   "execution_count": 449,
   "metadata": {
    "collapsed": false
   },
   "outputs": [
    {
     "data": {
      "image/png": "[encoded data removed]",
      "text/plain": [
       "<matplotlib.figure.Figure at 0x30aafeb8>"
      ]
     },
     "metadata": {},
     "output_type": "display_data"
    }
   ],
   "source": [
    "plt.hist(np.log10(freq), bins=50, cumulative=True, log=False, normed=True)\n",
    "plt.xlabel('Category frequency, log10 scale')\n",
    "plt.ylabel('No. of categories, cumulative')\n",
    "plt.show()"
   ]
  },
  {
   "cell_type": "code",
   "execution_count": 447,
   "metadata": {
    "collapsed": false
   },
   "outputs": [
    {
     "data": {
      "text/plain": [
       "1.3010299956639813"
      ]
     },
     "execution_count": 447,
     "metadata": {},
     "output_type": "execute_result"
    }
   ],
   "source": [
    "# check where frequency of 20 entries is on the x-axis\n",
    "np.log10(20)"
   ]
  },
  {
   "cell_type": "markdown",
   "metadata": {},
   "source": [
    "From the cumulative histogram we can visualize the distribution of category frequencies:\n",
    " - categories that appear 10 times or fewer (value 1 on the x-axis) account for just under 40% of all categories\n",
    " - 0.5 on the y-axis (i.e. half of all categories) seem to be at approx. 1.3 on the x-axis, so at frequency of approx. 20"
   ]
  },
  {
   "cell_type": "code",
   "execution_count": 423,
   "metadata": {
    "collapsed": false
   },
   "outputs": [
    {
     "name": "stdout",
     "output_type": "stream",
     "text": [
      "18439\n",
      "1\n"
     ]
    }
   ],
   "source": [
    "# check the first entry (leat frequent) and last entry (most frequent) \n",
    "print freq[-1]\n",
    "print freq[1]"
   ]
  },
  {
   "cell_type": "code",
   "execution_count": 424,
   "metadata": {
    "collapsed": false
   },
   "outputs": [
    {
     "name": "stdout",
     "output_type": "stream",
     "text": [
      "1025537\n",
      "0.713235943569\n"
     ]
    }
   ],
   "source": [
    "# sum the entries of the top 10% of categories (top 1252 entries)\n",
    "# calculate the proportion of total entries\n",
    "top10pct_categories = np.sum(freq[-1252:])\n",
    "print top10pct_categories\n",
    "print top10pct_categories / float(total_entries)"
   ]
  },
  {
   "cell_type": "markdown",
   "metadata": {},
   "source": [
    "The top 125 categories (i.e. top 10% of all Books categories) account for 440k entries or 30% of the total. So we cannot conclude that the top 10% of categories account for 90% of the products. The entries around the 10th percentile category have >1,400 entries. Next, we can look at the top 20% and top 50% of categories:"
   ]
  },
  {
   "cell_type": "code",
   "execution_count": 425,
   "metadata": {
    "collapsed": false
   },
   "outputs": [
    {
     "data": {
      "text/plain": [
       "2504.8"
      ]
     },
     "execution_count": 425,
     "metadata": {},
     "output_type": "execute_result"
    }
   ],
   "source": [
    "0.2*total_categories"
   ]
  },
  {
   "cell_type": "code",
   "execution_count": 426,
   "metadata": {
    "collapsed": false
   },
   "outputs": [
    {
     "name": "stdout",
     "output_type": "stream",
     "text": [
      "Top 20% of categories as % of total entries: 0.851379649689\n",
      "Top 50% of categories as % of total entries: 0.970592510423\n"
     ]
    }
   ],
   "source": [
    "# sum the entries of the top 20% of categories (top 125 entries)\n",
    "# calculate the proportion of total entries\n",
    "print 'Top 20% of categories as % of total entries:', np.sum(freq[-2504:]) / float(total_entries)\n",
    "print 'Top 50% of categories as % of total entries:', np.sum(freq[-6262:]) / float(total_entries) "
   ]
  },
  {
   "cell_type": "code",
   "execution_count": 427,
   "metadata": {
    "collapsed": false
   },
   "outputs": [
    {
     "name": "stdout",
     "output_type": "stream",
     "text": [
      "10th percentile frequency:  245\n",
      "20th percentile frequency:  101\n",
      "50th percentile frequency:  18\n"
     ]
    }
   ],
   "source": [
    "print '10th percentile frequency: ', freq[-1252]\n",
    "print '20th percentile frequency: ', freq[-2504]\n",
    "print '50th percentile frequency: ', freq[-6262]"
   ]
  },
  {
   "cell_type": "code",
   "execution_count": 436,
   "metadata": {
    "collapsed": false
   },
   "outputs": [
    {
     "data": {
      "text/plain": [
       "array([10, 10, 10, 10, 11])"
      ]
     },
     "execution_count": 436,
     "metadata": {},
     "output_type": "execute_result"
    }
   ],
   "source": [
    "freq[4730:4735]"
   ]
  },
  {
   "cell_type": "code",
   "execution_count": 438,
   "metadata": {
    "collapsed": false
   },
   "outputs": [
    {
     "name": "stdout",
     "output_type": "stream",
     "text": [
      "percentage of 10 entries and below:  0.0146015098775\n",
      "percentage of categories that have 10 or fewer entries:  0.378074097732\n"
     ]
    }
   ],
   "source": [
    "print 'percentage of 10 entries and below: ' ,np.sum(freq[:4735]) / float(total_entries) \n",
    "print 'percentage of categories that have 10 or fewer entries: ', 4735.0 / total_categories"
   ]
  },
  {
   "cell_type": "markdown",
   "metadata": {},
   "source": [
    "From the calculations above we have a better overall picture:\n",
    "- The total number of Books available (from the web description) is 393k\n",
    "- There are 1.29m entries starting with the word 'Book', which we used to identify the relevant lines in the .txt file\n",
    "- In the vast majority of cases (95%) there is a Book category code and a Subject code (always the same codes), and on average there are 4 category branches\n",
    "- Looking at the final branch, there are 12,524 distinct categories. \n",
    "\n",
    "In order to determine if there is category bloat present, we look at the distribution of entries over the 12,524 final branch categories:\n",
    "- To determine of there is a 90/10 split present, we look at the top 10% of categories (1,205 categories) - these cover 1.0M entries, or 71% of the total. So in this final category branch there is no 90/10 split, but we can see that the distribution may lean towards a 80/20 split\n",
    "- The top 20% of categories account for 85% of the total entries, and the top 50% of categories account for 97% of all entries. Hence we can conclude that there is some redundancy within the lower half of the distribution.\n",
    "- To determone at what point a category might be considered redundant, we can look at the frequency of appearance at various points of the distribution: at the 10th percentile, a category appears 245 times, at the 20th 101 times and at the 50th 18 times. A common-sense argument may be that 100+ appearances do justify the existence of a category and provides a level of detailed categorization that helps users search for relatively specialized items. However at the 50th percentile categories appear under 20 times and it could be argued that categories may be redundant at e.f. under 20 or under 10 titles per category.\n",
    "\n",
    "To answer the original question concisely:\n",
    "a) There does seem to be some redundancy in the categorization, identified by looking for categories with low frequency. These can be removed by either merging with another final-branch category, or by eliminating these categories and keeping the titles at one hierarchical level above.\n",
    "b) It would not be possible to remove 90% of categories and only affect 10% of the category entries. However, we can set a redundancy threshold based on the minimum number of entries per category, or the percentage of categories we wish to remove: \n",
    " - with a threshold of 11 entries or more, it would be possible to remove 38% of categories and only affect 1.5% of entries \n",
    " - by removing the bottom 50% of categories, only 3% of entries would be affected"
   ]
  },
  {
   "cell_type": "markdown",
   "metadata": {},
   "source": [
    "## B1. Algorithm Thinking "
   ]
  },
  {
   "cell_type": "markdown",
   "metadata": {},
   "source": [
    "Q: How would build the product categorization from scratch, using similar/co-purchased information?  \n",
    "\n",
    "A: The first 2-3 levels of 'broad' hirerarchical categorization would be best done using domain knowledge of how books are categorized (libabry or bookstore systems) as this would be familiar to customers. For the deeper levels, we could use unsupervised clustering methods for each broad category to create sub-levels of categories based on features about the titles (usually an abstract would provide info on what the title is about), in conjunction with co-purchased information to decide which products are most similar to each other. To avoid redundancy, conditions can be set on algorithms to produce clusters of a certain minimum size.\n",
    "\n",
    "Specific algorithms that would be most suitable:\n",
    "- Affinity propagation: allows many clusters and uneven cluster sizes\n",
    "- Ward hierarchical clustering as it produces the hierarchies in one go, and is suitable for a large number of clusters"
   ]
  },
  {
   "cell_type": "markdown",
   "metadata": {},
   "source": [
    "## B2. Product Thinking "
   ]
  },
  {
   "cell_type": "markdown",
   "metadata": {},
   "source": [
    "Q: Now, put on your 'product thinking' hat.\n",
    "a. Is it a good idea to show users the categorization hierarchy for items? \n",
    "b. Is it a good idea to show users similar/co-purchased items? \n",
    "c. Is it a good idea to show users reviews and ratings for items? \n",
    "d. For each of the above, why? How will you establish the same?\n",
    "\n",
    "A: All of the above are useful to show users:\n",
    "- categorization hierarchy facilitates the user's navigation when searching for the right items and lets them know that they are in the products map. In this way they can browse related categories on the same broader topic and may be compelled to purchase more products in order to gain a better perspective. If only shown similar anc co-purchased items, the user is seeing more of the same and less variety. Also it is hard to imagine a user being discouraged from making a purchase purely on teh basis of being shown the hierarchical categorization as a very familiar concept.\n",
    "- Similar and co-purchased products are also very useful for customers as they are given choice within the same category and suggestions on what items may also be of interest. It may be the case that showing suggestions from completely unrelated categories (just because a previous shopper bought unrelated items together) may be a poor idea, however this would need to be supporthed by data, such as an A/B test to show what level of similarity works best.\n",
    "- Reviews and ratings are also useful to show as they help users decide what product is right for them. It would be reasonable to expect that users will be drawn to higher-rated products and so low-rated products would be either dropped from the seller's offer or ignored by users. This may be a reason why ratings have a positive skew.\n",
    "\n",
    "For detrmining whether a feature is actually useful, we can use existing data to infer their imortance (e.g. by looking at the proportion of purchases that directly result from similar / co=purchased items). Alternatively, A/B testing can provide answers whether users prefer to have a feature or not.\n"
   ]
  },
  {
   "cell_type": "code",
   "execution_count": null,
   "metadata": {
    "collapsed": true
   },
   "outputs": [],
   "source": []
  }
 ],
 "metadata": {
  "kernelspec": {
   "display_name": "Python 2",
   "language": "python",
   "name": "python2"
  },
  "language_info": {
   "codemirror_mode": {
    "name": "ipython",
    "version": 2
   },
   "file_extension": ".py",
   "mimetype": "text/x-python",
   "name": "python",
   "nbconvert_exporter": "python",
   "pygments_lexer": "ipython2",
   "version": "2.7.13"
  }
 },
 "nbformat": 4,
 "nbformat_minor": 2
}
