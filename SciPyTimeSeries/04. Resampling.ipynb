{
 "cells": [
  {
   "cell_type": "code",
   "execution_count": 1,
   "metadata": {
    "collapsed": true
   },
   "outputs": [],
   "source": [
    "import pandas as pd\n",
    "import numpy as np"
   ]
  },
  {
   "cell_type": "code",
   "execution_count": 44,
   "metadata": {
    "collapsed": false
   },
   "outputs": [],
   "source": [
    "rng = pd.date_range('1/1/2011', periods = 72, freq = 'H')\n",
    "ts = pd.Series(list(range(len(rng))), index = rng)"
   ]
  },
  {
   "cell_type": "code",
   "execution_count": 3,
   "metadata": {
    "collapsed": true
   },
   "outputs": [],
   "source": [
    "converted = ts.asfreq('45Min', method = 'ffill')"
   ]
  },
  {
   "cell_type": "markdown",
   "metadata": {},
   "source": [
    "### What does the above code do to the size and content of your data frame?"
   ]
  },
  {
   "cell_type": "code",
   "execution_count": 4,
   "metadata": {
    "collapsed": false
   },
   "outputs": [
    {
     "data": {
      "text/plain": [
       "2011-01-01 00:45:00    0\n",
       "2011-01-01 01:30:00    1\n",
       "2011-01-01 02:15:00    2\n",
       "2011-01-01 03:00:00    3\n",
       "2011-01-01 03:45:00    3\n",
       "2011-01-01 04:30:00    4\n",
       "2011-01-01 05:15:00    5\n",
       "2011-01-01 06:00:00    6\n",
       "2011-01-01 06:45:00    6\n",
       "Freq: 45T, dtype: int64"
      ]
     },
     "execution_count": 4,
     "metadata": {},
     "output_type": "execute_result"
    }
   ],
   "source": [
    "converted[1:10]"
   ]
  },
  {
   "cell_type": "code",
   "execution_count": 5,
   "metadata": {
    "collapsed": false
   },
   "outputs": [
    {
     "data": {
      "text/plain": [
       "2011-01-01 01:00:00    1\n",
       "2011-01-01 02:00:00    2\n",
       "2011-01-01 03:00:00    3\n",
       "2011-01-01 04:00:00    4\n",
       "2011-01-01 05:00:00    5\n",
       "2011-01-01 06:00:00    6\n",
       "2011-01-01 07:00:00    7\n",
       "2011-01-01 08:00:00    8\n",
       "2011-01-01 09:00:00    9\n",
       "Freq: H, dtype: int64"
      ]
     },
     "execution_count": 5,
     "metadata": {},
     "output_type": "execute_result"
    }
   ],
   "source": [
    "ts[1:10]"
   ]
  },
  {
   "cell_type": "markdown",
   "metadata": {},
   "source": [
    "### Take a look at the specs for .asfreq(). What are your options for filling in missing data?"
   ]
  },
  {
   "cell_type": "code",
   "execution_count": 24,
   "metadata": {
    "collapsed": false
   },
   "outputs": [
    {
     "data": {
      "text/plain": [
       "2011-01-01 00:00:00     0\n",
       "2011-01-01 12:30:00    12\n",
       "2011-01-02 01:00:00    25\n",
       "2011-01-02 13:30:00    37\n",
       "2011-01-03 02:00:00    50\n",
       "2011-01-03 14:30:00    62\n",
       "Freq: 750T, dtype: int64"
      ]
     },
     "execution_count": 24,
     "metadata": {},
     "output_type": "execute_result"
    }
   ],
   "source": [
    "ts.asfreq('12.5H', method='pad')"
   ]
  },
  {
   "cell_type": "markdown",
   "metadata": {},
   "source": [
    "### How can you go to less frequent rather than more frequent?"
   ]
  },
  {
   "cell_type": "code",
   "execution_count": 25,
   "metadata": {
    "collapsed": true
   },
   "outputs": [],
   "source": [
    "converted = ts.asfreq('3H')"
   ]
  },
  {
   "cell_type": "code",
   "execution_count": 26,
   "metadata": {
    "collapsed": false
   },
   "outputs": [
    {
     "data": {
      "text/plain": [
       "2011-01-01 03:00:00     3\n",
       "2011-01-01 06:00:00     6\n",
       "2011-01-01 09:00:00     9\n",
       "2011-01-01 12:00:00    12\n",
       "2011-01-01 15:00:00    15\n",
       "2011-01-01 18:00:00    18\n",
       "2011-01-01 21:00:00    21\n",
       "2011-01-02 00:00:00    24\n",
       "2011-01-02 03:00:00    27\n",
       "Freq: 3H, dtype: int64"
      ]
     },
     "execution_count": 26,
     "metadata": {},
     "output_type": "execute_result"
    }
   ],
   "source": [
    "converted[1:10]"
   ]
  },
  {
   "cell_type": "code",
   "execution_count": 27,
   "metadata": {
    "collapsed": false
   },
   "outputs": [
    {
     "data": {
      "text/plain": [
       "2011-01-01 01:00:00    1\n",
       "2011-01-01 02:00:00    2\n",
       "2011-01-01 03:00:00    3\n",
       "2011-01-01 04:00:00    4\n",
       "2011-01-01 05:00:00    5\n",
       "2011-01-01 06:00:00    6\n",
       "2011-01-01 07:00:00    7\n",
       "2011-01-01 08:00:00    8\n",
       "2011-01-01 09:00:00    9\n",
       "Freq: H, dtype: int64"
      ]
     },
     "execution_count": 27,
     "metadata": {},
     "output_type": "execute_result"
    }
   ],
   "source": [
    "ts[1:10]"
   ]
  },
  {
   "cell_type": "code",
   "execution_count": 28,
   "metadata": {
    "collapsed": false
   },
   "outputs": [
    {
     "data": {
      "text/plain": [
       "2011-01-01 02:00:00     2.5\n",
       "2011-01-01 04:00:00     4.5\n",
       "2011-01-01 06:00:00     6.5\n",
       "2011-01-01 08:00:00     8.5\n",
       "2011-01-01 10:00:00    10.5\n",
       "2011-01-01 12:00:00    12.5\n",
       "2011-01-01 14:00:00    14.5\n",
       "2011-01-01 16:00:00    16.5\n",
       "2011-01-01 18:00:00    18.5\n",
       "Freq: 2H, dtype: float64"
      ]
     },
     "execution_count": 28,
     "metadata": {},
     "output_type": "execute_result"
    }
   ],
   "source": [
    "# Let's try the more flexible .resample()\n",
    "ts.resample('2H').mean()[1:10]"
   ]
  },
  {
   "cell_type": "code",
   "execution_count": 29,
   "metadata": {
    "collapsed": false
   },
   "outputs": [],
   "source": [
    "# What's particularly useful is that we can use reample to event out irregular time series\n",
    "irreg_ts = ts[list(np.random.choice(a = list(range(len(ts))), size = 10, replace = False))]"
   ]
  },
  {
   "cell_type": "code",
   "execution_count": 30,
   "metadata": {
    "collapsed": false
   },
   "outputs": [
    {
     "data": {
      "text/plain": [
       "2011-01-03 13:00:00    61\n",
       "2011-01-02 21:00:00    45\n",
       "2011-01-03 04:00:00    52\n",
       "2011-01-02 22:00:00    46\n",
       "2011-01-01 20:00:00    20\n",
       "2011-01-03 12:00:00    60\n",
       "2011-01-01 18:00:00    18\n",
       "2011-01-01 10:00:00    10\n",
       "2011-01-03 19:00:00    67\n",
       "2011-01-01 15:00:00    15\n",
       "dtype: int64"
      ]
     },
     "execution_count": 30,
     "metadata": {},
     "output_type": "execute_result"
    }
   ],
   "source": [
    "irreg_ts"
   ]
  },
  {
   "cell_type": "code",
   "execution_count": 31,
   "metadata": {
    "collapsed": false
   },
   "outputs": [
    {
     "data": {
      "text/plain": [
       "Series([], Freq: D, dtype: int64)"
      ]
     },
     "execution_count": 31,
     "metadata": {},
     "output_type": "execute_result"
    }
   ],
   "source": [
    "irreg_ts.asfreq('D')"
   ]
  },
  {
   "cell_type": "code",
   "execution_count": null,
   "metadata": {
    "collapsed": true
   },
   "outputs": [],
   "source": []
  },
  {
   "cell_type": "markdown",
   "metadata": {},
   "source": [
    "### Why didn't that work?"
   ]
  },
  {
   "cell_type": "code",
   "execution_count": 32,
   "metadata": {
    "collapsed": false
   },
   "outputs": [
    {
     "data": {
      "text/plain": [
       "2011-01-01 10:00:00    10\n",
       "2011-01-01 15:00:00    15\n",
       "2011-01-01 18:00:00    18\n",
       "2011-01-01 20:00:00    20\n",
       "2011-01-02 21:00:00    45\n",
       "2011-01-02 22:00:00    46\n",
       "2011-01-03 04:00:00    52\n",
       "2011-01-03 12:00:00    60\n",
       "2011-01-03 13:00:00    61\n",
       "2011-01-03 19:00:00    67\n",
       "dtype: int64"
      ]
     },
     "execution_count": 32,
     "metadata": {},
     "output_type": "execute_result"
    }
   ],
   "source": [
    "irreg_ts = irreg_ts.sort_index()\n",
    "irreg_ts"
   ]
  },
  {
   "cell_type": "code",
   "execution_count": 33,
   "metadata": {
    "collapsed": false
   },
   "outputs": [
    {
     "data": {
      "text/plain": [
       "2011-01-01 10:00:00    10.0\n",
       "2011-01-02 10:00:00     NaN\n",
       "2011-01-03 10:00:00     NaN\n",
       "Freq: D, dtype: float64"
      ]
     },
     "execution_count": 33,
     "metadata": {},
     "output_type": "execute_result"
    }
   ],
   "source": [
    "irreg_ts.asfreq('D')"
   ]
  },
  {
   "cell_type": "code",
   "execution_count": 34,
   "metadata": {
    "collapsed": false
   },
   "outputs": [
    {
     "data": {
      "text/plain": [
       "2011-01-01    4\n",
       "2011-01-02    2\n",
       "2011-01-03    4\n",
       "Freq: D, dtype: int64"
      ]
     },
     "execution_count": 34,
     "metadata": {},
     "output_type": "execute_result"
    }
   ],
   "source": [
    "irreg_ts.resample('D').count()"
   ]
  },
  {
   "cell_type": "markdown",
   "metadata": {},
   "source": [
    "# Try\n",
    "\n",
    "(1) What if you want to go to a higher frequency, but you don't want to back fill or forward fill? Why might you want to do that?\n",
    "\n",
    "(2) What is the difference between .ressample() and .asfreq()?\n",
    "\n",
    "(3) How can I forward-fill only a few days? (hint: .fillna())\n",
    "\n",
    "(4) What are some helpful functions to use with a Resampler object?"
   ]
  },
  {
   "cell_type": "code",
   "execution_count": 49,
   "metadata": {
    "collapsed": false
   },
   "outputs": [
    {
     "data": {
      "text/plain": [
       "2011-01-01 00:00:00     0.0\n",
       "2011-01-01 00:45:00     NaN\n",
       "2011-01-01 01:30:00     NaN\n",
       "2011-01-01 02:15:00     NaN\n",
       "2011-01-01 03:00:00     3.0\n",
       "2011-01-01 03:45:00     NaN\n",
       "2011-01-01 04:30:00     NaN\n",
       "2011-01-01 05:15:00     NaN\n",
       "2011-01-01 06:00:00     6.0\n",
       "2011-01-01 06:45:00     NaN\n",
       "2011-01-01 07:30:00     NaN\n",
       "2011-01-01 08:15:00     NaN\n",
       "2011-01-01 09:00:00     9.0\n",
       "2011-01-01 09:45:00     NaN\n",
       "2011-01-01 10:30:00     NaN\n",
       "2011-01-01 11:15:00     NaN\n",
       "2011-01-01 12:00:00    12.0\n",
       "2011-01-01 12:45:00     NaN\n",
       "2011-01-01 13:30:00     NaN\n",
       "2011-01-01 14:15:00     NaN\n",
       "2011-01-01 15:00:00    15.0\n",
       "2011-01-01 15:45:00     NaN\n",
       "2011-01-01 16:30:00     NaN\n",
       "2011-01-01 17:15:00     NaN\n",
       "2011-01-01 18:00:00    18.0\n",
       "2011-01-01 18:45:00     NaN\n",
       "2011-01-01 19:30:00     NaN\n",
       "2011-01-01 20:15:00     NaN\n",
       "2011-01-01 21:00:00    21.0\n",
       "2011-01-01 21:45:00     NaN\n",
       "                       ... \n",
       "2011-01-03 00:45:00     NaN\n",
       "2011-01-03 01:30:00     NaN\n",
       "2011-01-03 02:15:00     NaN\n",
       "2011-01-03 03:00:00    51.0\n",
       "2011-01-03 03:45:00     NaN\n",
       "2011-01-03 04:30:00     NaN\n",
       "2011-01-03 05:15:00     NaN\n",
       "2011-01-03 06:00:00    54.0\n",
       "2011-01-03 06:45:00     NaN\n",
       "2011-01-03 07:30:00     NaN\n",
       "2011-01-03 08:15:00     NaN\n",
       "2011-01-03 09:00:00    57.0\n",
       "2011-01-03 09:45:00     NaN\n",
       "2011-01-03 10:30:00     NaN\n",
       "2011-01-03 11:15:00     NaN\n",
       "2011-01-03 12:00:00    60.0\n",
       "2011-01-03 12:45:00     NaN\n",
       "2011-01-03 13:30:00     NaN\n",
       "2011-01-03 14:15:00     NaN\n",
       "2011-01-03 15:00:00    63.0\n",
       "2011-01-03 15:45:00     NaN\n",
       "2011-01-03 16:30:00     NaN\n",
       "2011-01-03 17:15:00     NaN\n",
       "2011-01-03 18:00:00    66.0\n",
       "2011-01-03 18:45:00     NaN\n",
       "2011-01-03 19:30:00     NaN\n",
       "2011-01-03 20:15:00     NaN\n",
       "2011-01-03 21:00:00    69.0\n",
       "2011-01-03 21:45:00     NaN\n",
       "2011-01-03 22:30:00     NaN\n",
       "Freq: 45T, Length: 95, dtype: float64"
      ]
     },
     "execution_count": 49,
     "metadata": {},
     "output_type": "execute_result"
    }
   ],
   "source": [
    "# can always use None as method if ffill or bfill do not make sense\n",
    "ts.asfreq('45T', method=None)"
   ]
  },
  {
   "cell_type": "code",
   "execution_count": 52,
   "metadata": {
    "collapsed": false
   },
   "outputs": [
    {
     "data": {
      "text/plain": [
       "2011-01-01 00:00:00     0.0\n",
       "2011-01-01 00:45:00     0.0\n",
       "2011-01-01 01:30:00     NaN\n",
       "2011-01-01 02:15:00     NaN\n",
       "2011-01-01 03:00:00     3.0\n",
       "2011-01-01 03:45:00     3.0\n",
       "2011-01-01 04:30:00     NaN\n",
       "2011-01-01 05:15:00     NaN\n",
       "2011-01-01 06:00:00     6.0\n",
       "2011-01-01 06:45:00     6.0\n",
       "2011-01-01 07:30:00     NaN\n",
       "2011-01-01 08:15:00     NaN\n",
       "2011-01-01 09:00:00     9.0\n",
       "2011-01-01 09:45:00     9.0\n",
       "2011-01-01 10:30:00     NaN\n",
       "2011-01-01 11:15:00     NaN\n",
       "2011-01-01 12:00:00    12.0\n",
       "2011-01-01 12:45:00    12.0\n",
       "2011-01-01 13:30:00     NaN\n",
       "2011-01-01 14:15:00     NaN\n",
       "2011-01-01 15:00:00    15.0\n",
       "2011-01-01 15:45:00    15.0\n",
       "2011-01-01 16:30:00     NaN\n",
       "2011-01-01 17:15:00     NaN\n",
       "2011-01-01 18:00:00    18.0\n",
       "2011-01-01 18:45:00    18.0\n",
       "2011-01-01 19:30:00     NaN\n",
       "2011-01-01 20:15:00     NaN\n",
       "2011-01-01 21:00:00    21.0\n",
       "2011-01-01 21:45:00    21.0\n",
       "                       ... \n",
       "2011-01-03 00:45:00    48.0\n",
       "2011-01-03 01:30:00     NaN\n",
       "2011-01-03 02:15:00     NaN\n",
       "2011-01-03 03:00:00    51.0\n",
       "2011-01-03 03:45:00    51.0\n",
       "2011-01-03 04:30:00     NaN\n",
       "2011-01-03 05:15:00     NaN\n",
       "2011-01-03 06:00:00    54.0\n",
       "2011-01-03 06:45:00    54.0\n",
       "2011-01-03 07:30:00     NaN\n",
       "2011-01-03 08:15:00     NaN\n",
       "2011-01-03 09:00:00    57.0\n",
       "2011-01-03 09:45:00    57.0\n",
       "2011-01-03 10:30:00     NaN\n",
       "2011-01-03 11:15:00     NaN\n",
       "2011-01-03 12:00:00    60.0\n",
       "2011-01-03 12:45:00    60.0\n",
       "2011-01-03 13:30:00     NaN\n",
       "2011-01-03 14:15:00     NaN\n",
       "2011-01-03 15:00:00    63.0\n",
       "2011-01-03 15:45:00    63.0\n",
       "2011-01-03 16:30:00     NaN\n",
       "2011-01-03 17:15:00     NaN\n",
       "2011-01-03 18:00:00    66.0\n",
       "2011-01-03 18:45:00    66.0\n",
       "2011-01-03 19:30:00     NaN\n",
       "2011-01-03 20:15:00     NaN\n",
       "2011-01-03 21:00:00    69.0\n",
       "2011-01-03 21:45:00    69.0\n",
       "2011-01-03 22:30:00     NaN\n",
       "Freq: 45T, Length: 95, dtype: float64"
      ]
     },
     "execution_count": 52,
     "metadata": {},
     "output_type": "execute_result"
    }
   ],
   "source": [
    "ts.asfreq('45T').fillna(method='ffill', limit=1)"
   ]
  },
  {
   "cell_type": "code",
   "execution_count": 56,
   "metadata": {
    "collapsed": false
   },
   "outputs": [
    {
     "data": {
      "text/plain": [
       "2011-01-01    24\n",
       "2011-01-02    24\n",
       "2011-01-03    24\n",
       "Freq: D, dtype: int64"
      ]
     },
     "execution_count": 56,
     "metadata": {},
     "output_type": "execute_result"
    }
   ],
   "source": [
    "# with .resample can use count, mean, max, min, var, aggregate, \n",
    "ts.resample('d').count()"
   ]
  },
  {
   "cell_type": "code",
   "execution_count": null,
   "metadata": {
    "collapsed": true
   },
   "outputs": [],
   "source": [
    "# difference: \n",
    "#.resample is an aggregation method that requires an aggregation operataion to be performed (e.g. mean, count as above)\n",
    "# .asfreq is a reindexing function to present the data in a different frequency"
   ]
  }
 ],
 "metadata": {
  "kernelspec": {
   "display_name": "Python 2",
   "language": "python",
   "name": "python2"
  },
  "language_info": {
   "codemirror_mode": {
    "name": "ipython",
    "version": 2
   },
   "file_extension": ".py",
   "mimetype": "text/x-python",
   "name": "python",
   "nbconvert_exporter": "python",
   "pygments_lexer": "ipython2",
   "version": "2.7.13"
  }
 },
 "nbformat": 4,
 "nbformat_minor": 0
}
